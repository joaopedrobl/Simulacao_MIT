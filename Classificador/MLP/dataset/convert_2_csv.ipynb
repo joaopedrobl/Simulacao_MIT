{
 "cells": [
  {
   "cell_type": "code",
   "execution_count": 30,
   "metadata": {},
   "outputs": [],
   "source": [
    "import numpy as np\n",
    "import pandas as pd\n",
    "import matplotlib.pyplot as plt\n",
    "import os\n",
    "import shutil\n",
    "import scipy as sc\n",
    "import os\n",
    "from os import listdir\n",
    "from pathlib import Path"
   ]
  },
  {
   "cell_type": "code",
   "execution_count": 20,
   "metadata": {},
   "outputs": [
    {
     "data": {
      "text/plain": [
       "array([[ 1.5049744 , -1.0467529 ,  0.62194824],\n",
       "       [ 1.4852905 , -1.1203003 ,  0.58914185],\n",
       "       [ 1.4028931 , -1.2045288 ,  0.59692383],\n",
       "       ...,\n",
       "       [-0.52459717,  0.95214844,  0.37445068],\n",
       "       [-0.51544189,  0.93231201,  0.32348633],\n",
       "       [-0.58700562,  0.85357666,  0.20523071]])"
      ]
     },
     "execution_count": 20,
     "metadata": {},
     "output_type": "execute_result"
    }
   ],
   "source": [
    "file = r\"C:\\Repositorios\\Simulacao_MIT\\Classificador\\MLP\\dataset\\original_files\\Normal\\c000c30c000(corrente).dat\"\n",
    "x = np.loadtxt(file)\n",
    "x\n"
   ]
  },
  {
   "cell_type": "code",
   "execution_count": 22,
   "metadata": {},
   "outputs": [
    {
     "data": {
      "text/html": [
       "<div>\n",
       "<style scoped>\n",
       "    .dataframe tbody tr th:only-of-type {\n",
       "        vertical-align: middle;\n",
       "    }\n",
       "\n",
       "    .dataframe tbody tr th {\n",
       "        vertical-align: top;\n",
       "    }\n",
       "\n",
       "    .dataframe thead th {\n",
       "        text-align: right;\n",
       "    }\n",
       "</style>\n",
       "<table border=\"1\" class=\"dataframe\">\n",
       "  <thead>\n",
       "    <tr style=\"text-align: right;\">\n",
       "      <th></th>\n",
       "      <th>a</th>\n",
       "      <th>b</th>\n",
       "      <th>c</th>\n",
       "    </tr>\n",
       "  </thead>\n",
       "  <tbody>\n",
       "    <tr>\n",
       "      <th>0</th>\n",
       "      <td>1.504974</td>\n",
       "      <td>-1.046753</td>\n",
       "      <td>0.621948</td>\n",
       "    </tr>\n",
       "    <tr>\n",
       "      <th>1</th>\n",
       "      <td>1.485291</td>\n",
       "      <td>-1.120300</td>\n",
       "      <td>0.589142</td>\n",
       "    </tr>\n",
       "    <tr>\n",
       "      <th>2</th>\n",
       "      <td>1.402893</td>\n",
       "      <td>-1.204529</td>\n",
       "      <td>0.596924</td>\n",
       "    </tr>\n",
       "    <tr>\n",
       "      <th>3</th>\n",
       "      <td>1.358643</td>\n",
       "      <td>-1.213379</td>\n",
       "      <td>0.613556</td>\n",
       "    </tr>\n",
       "    <tr>\n",
       "      <th>4</th>\n",
       "      <td>1.343079</td>\n",
       "      <td>-1.204529</td>\n",
       "      <td>0.644226</td>\n",
       "    </tr>\n",
       "    <tr>\n",
       "      <th>...</th>\n",
       "      <td>...</td>\n",
       "      <td>...</td>\n",
       "      <td>...</td>\n",
       "    </tr>\n",
       "    <tr>\n",
       "      <th>99995</th>\n",
       "      <td>-0.507965</td>\n",
       "      <td>0.897675</td>\n",
       "      <td>0.320892</td>\n",
       "    </tr>\n",
       "    <tr>\n",
       "      <th>99996</th>\n",
       "      <td>-0.572662</td>\n",
       "      <td>0.883789</td>\n",
       "      <td>0.343323</td>\n",
       "    </tr>\n",
       "    <tr>\n",
       "      <th>99997</th>\n",
       "      <td>-0.524597</td>\n",
       "      <td>0.952148</td>\n",
       "      <td>0.374451</td>\n",
       "    </tr>\n",
       "    <tr>\n",
       "      <th>99998</th>\n",
       "      <td>-0.515442</td>\n",
       "      <td>0.932312</td>\n",
       "      <td>0.323486</td>\n",
       "    </tr>\n",
       "    <tr>\n",
       "      <th>99999</th>\n",
       "      <td>-0.587006</td>\n",
       "      <td>0.853577</td>\n",
       "      <td>0.205231</td>\n",
       "    </tr>\n",
       "  </tbody>\n",
       "</table>\n",
       "<p>100000 rows × 3 columns</p>\n",
       "</div>"
      ],
      "text/plain": [
       "              a         b         c\n",
       "0      1.504974 -1.046753  0.621948\n",
       "1      1.485291 -1.120300  0.589142\n",
       "2      1.402893 -1.204529  0.596924\n",
       "3      1.358643 -1.213379  0.613556\n",
       "4      1.343079 -1.204529  0.644226\n",
       "...         ...       ...       ...\n",
       "99995 -0.507965  0.897675  0.320892\n",
       "99996 -0.572662  0.883789  0.343323\n",
       "99997 -0.524597  0.952148  0.374451\n",
       "99998 -0.515442  0.932312  0.323486\n",
       "99999 -0.587006  0.853577  0.205231\n",
       "\n",
       "[100000 rows x 3 columns]"
      ]
     },
     "execution_count": 22,
     "metadata": {},
     "output_type": "execute_result"
    }
   ],
   "source": [
    "ds = pd.DataFrame(x, columns=['a', 'b', 'c'])\n",
    "ds.to_csv()"
   ]
  },
  {
   "cell_type": "code",
   "execution_count": 31,
   "metadata": {},
   "outputs": [],
   "source": [
    "# Folder Path\n",
    "path = r\"C:\\Repositorios\\Simulacao_MIT\\Classificador\\MLP\\dataset\\original_files\\Normal\"\n",
    "new_path = r\"C:\\Repositorios\\Simulacao_MIT\\Classificador\\MLP\\dataset\\csv_files\\Normal\"\n",
    "# Change the directory\n",
    "\n",
    "os.chdir(path)\n",
    "for file in os.listdir():\n",
    "    os.chdir(path)\n",
    "    x = np.loadtxt(file)\n",
    "    ds = pd.DataFrame(x, columns=['a', 'b', 'c'])\n",
    "    new_file = Path(file).stem\n",
    "    os.chdir(new_path)\n",
    "    ds.to_csv(new_file+'.csv')"
   ]
  }
 ],
 "metadata": {
  "kernelspec": {
   "display_name": "Python 3",
   "language": "python",
   "name": "python3"
  },
  "language_info": {
   "codemirror_mode": {
    "name": "ipython",
    "version": 3
   },
   "file_extension": ".py",
   "mimetype": "text/x-python",
   "name": "python",
   "nbconvert_exporter": "python",
   "pygments_lexer": "ipython3",
   "version": "3.11.0"
  },
  "orig_nbformat": 4,
  "vscode": {
   "interpreter": {
    "hash": "eb1632e43441436239190fe33f8d722d10a5995014a4c9b4148e8957376e40b5"
   }
  }
 },
 "nbformat": 4,
 "nbformat_minor": 2
}
