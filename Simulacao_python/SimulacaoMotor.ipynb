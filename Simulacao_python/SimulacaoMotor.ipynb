{
  "cells": [
    {
      "cell_type": "code",
      "execution_count": 1,
      "metadata": {
        "id": "FrxsmroMDGw4"
      },
      "outputs": [],
      "source": [
        "import matplotlib.pyplot as plt\n",
        "import numpy as np"
      ]
    },
    {
      "cell_type": "code",
      "execution_count": 2,
      "metadata": {
        "id": "P60vn8ZvE3qN"
      },
      "outputs": [],
      "source": [
        "pi = np.pi\n",
        "NiterG = 10000\n",
        "Niter = 10\n",
        "dt = 0.00001\n",
        "Umax = 311\n",
        "SIZE = 29 #Número de barras do mortor+anel coletor\n",
        "Cr = 2.38 #Conjugado de carga nominal\n",
        "\n",
        "FALHA = 1\n",
        "\n",
        "# Dados do Motor de Indução\n",
        "\n",
        "p = 1\n",
        "Jt = 0.023976\n",
        "fv = 0.0014439\n",
        "\n",
        "Ns = 156 #Número de voltas da bobina do estator\n",
        "rs = 1.5 #Resitencia do estator\n",
        "Ls1 = 0.007 #Indutância de dispersão do estator\n",
        "\n",
        "nb = 28 #Número de barras do rotor\n",
        "Rb = 0.000096940036 #resistência das barras\n",
        "Re = 0.000005\t#resistencia do endring\n",
        "Lb = 0.00000028  #Auto indutância da barra do rotor\n",
        "Le = 0.000000036 #Auto indutância do endring\n",
        "\n",
        "r = 0.070  #Raio medio do entreferro\n",
        "g = 0.00028  #Entreferro\n",
        "l = 0.120 #Comprimento efetivo do rotor\n",
        "\n",
        "mu  = 0.00000125663\n",
        "\n",
        "Lms = (Ns / (2 * p)) * (Ns / (2 * p)) * ((np.pi * mu * l * r) / g)\n",
        "Lsr = 4 / np.pi * Lms / Ns * np.sin(p * (2*np.pi) / (2*nb))\n",
        "\n",
        "tam = 29\n",
        "\n",
        "t = 0\n",
        "teta = 0\n",
        "om = 0\n",
        "isa1 = 0\n",
        "isb1 = 0\n",
        "isc1 = 0\n",
        "\n",
        "dL = np.zeros((34,34))\n",
        "A = np.zeros((34,34))\n",
        "b = np.zeros((34,34))\n",
        "inv_L = np.zeros((34,34))\n",
        "B = np.zeros((34,34))\n",
        "\n",
        "x =  np.zeros((34))\n",
        "U = np.zeros((34))\n",
        "BU = np.zeros((34))\n",
        "Ad =np.zeros((34))\n",
        "\n",
        "# ir1 = 0\n",
        "# ir2 = 0\n",
        "# ir3 = 0\n",
        "# ir4 = 0\n",
        "# ir5 = 0\n",
        "# ir6 = 0\n",
        "# ir7 = 0\n",
        "# ir8 = 0\n",
        "# ir9 = 0\n",
        "# ir10 = 0\n",
        "# ir11 = 0\n",
        "# ir12 = 0\n",
        "# ir13 = 0\n",
        "# ir14 = 0\n",
        "# ir15 = 0\n",
        "# ir16 = 0\n",
        "# ir17 = 0\n",
        "# ir18 = 0\n",
        "# ir19 = 0\n",
        "# ir20 = 0\n",
        "# ir21 = 0\n",
        "# ir22 = 0\n",
        "# ir23 = 0\n",
        "# ir24 = 0\n",
        "# ir25 = 0\n",
        "# ir26 = 0\n",
        "# ir27 = 0\n",
        "# ir28 = 0\n",
        "# ire = 0\n",
        "# om = 0\n",
        "# teta = 0\n",
        "# te = 0\n",
        "\n",
        "R_r = np.zeros((SIZE,SIZE))\n",
        "L_r = np.zeros((SIZE,SIZE))\n",
        "L_sr = np.zeros((3, SIZE))\n",
        "dL_sr = np.zeros((3, SIZE))\n",
        "L_rs = np.zeros((SIZE,3))\n",
        "dL_rs = np.zeros((SIZE,3))\n",
        "R_s = np.zeros((3,3))\n",
        "L_s = np.zeros((3,3))\n",
        "L = np.zeros((SIZE+5,SIZE+5))\n",
        "R = np.zeros((SIZE+5,SIZE+5))\n",
        "\n",
        "results = np.zeros((NiterG,29))\n"
      ]
    },
    {
      "cell_type": "code",
      "execution_count": 3,
      "metadata": {
        "id": "N_JRyeAYVDK7"
      },
      "outputs": [],
      "source": [
        "def cos(a):\n",
        "  return np.cos(a)\n",
        "\n",
        "def sin(a):\n",
        "  return np.sin(a)"
      ]
    },
    {
      "cell_type": "code",
      "execution_count": 4,
      "metadata": {
        "id": "ars-A4G2P0yM"
      },
      "outputs": [],
      "source": [
        "def assemble_Rr():\n",
        "  a = 2*(Rb + Re)\n",
        "  b = -Rb\n",
        "  c = -Re\n",
        "  d = nb*Re\n",
        "\n",
        "  for m in range(tam):\n",
        "    for n in range(tam):\n",
        "      if(m == 0 and n == tam-2):\n",
        "        R_r[m][n] = b\n",
        "      else:\n",
        "        if(m == tam-2 and n == 0):\n",
        "          R_r[m][n] = b\n",
        "        elif(m == n and m != tam-1):\n",
        "          R_r[m][n] = a\n",
        "        elif(m + 1 == n and n != tam - 1):\n",
        "          R_r[m][n] = b\n",
        "        elif(m - 1 == n and m != tam - 1):\n",
        "          R_r[m][n] = b\n",
        "        elif(n == tam - 1):\n",
        "          R_r[m][n] = c\n",
        "        elif(m == tam - 1):\n",
        "          R_r[m][n] = c\n",
        "        else:\n",
        "          R_r[m][n] = 0\n",
        "  R_r[tam - 1][tam - 1] = d\n",
        "  return True"
      ]
    },
    {
      "cell_type": "code",
      "execution_count": 5,
      "metadata": {
        "id": "y4gjVOUTPq6w"
      },
      "outputs": [],
      "source": [
        "def assemble_Lr():\n",
        "\n",
        "  alpha = 2 * np.pi/nb\n",
        "  Lkk = (mu * l * r / g) * (1 - alpha / (2 * pi)) * alpha\n",
        "  Lki = -((mu * l * r) / g) * ((alpha * alpha) / (2 * pi))\n",
        "  Ld = Lkk + 2 * (Le + Lb)\n",
        "  Lt = Lki - Lb\n",
        "\n",
        "  a = Ld\n",
        "  b = Lt\n",
        "  c = -Le\n",
        "  d = nb*Le\n",
        "\n",
        "  for m in range(tam):\n",
        "    for n in range(tam):\n",
        "      if(m == 0 and n == tam-2):\n",
        "        L_r[m][n] = b\n",
        "      else:\n",
        "        if(m == tam-2 and n == 0):\n",
        "          L_r[m][n] = b\n",
        "        elif(m == n and m != tam-1):\n",
        "          L_r[m][n] = a\n",
        "        elif(m + 1 == n and n != tam - 1):\n",
        "          L_r[m][n] = b\n",
        "        elif(m - 1 == n and m != tam - 1):\n",
        "          L_r[m][n] = b\n",
        "        elif(n == tam - 1):\n",
        "          L_r[m][n] = c\n",
        "        elif(m == tam - 1):\n",
        "          L_r[m][n] = c\n",
        "        else:\n",
        "          L_r[m][n] = 0\n",
        "  L_r[tam - 1][tam - 1] = d\n",
        "  return True"
      ]
    },
    {
      "cell_type": "code",
      "execution_count": 6,
      "metadata": {
        "id": "zReYZgUyTg0J"
      },
      "outputs": [],
      "source": [
        "def assemble_Lsr():\n",
        "  alpha = 2* np.pi/nb\n",
        "\n",
        "  for m in range(3):\n",
        "    for n in range(tam-1):\n",
        "      if(m == 0):\n",
        "        L_sr[m][n] = Lsr * cos(p * (teta + n * alpha + alpha / 2))\n",
        "      if(m == 1):\n",
        "        L_sr[m][n] = Lsr * cos(p * (teta + n * alpha + alpha / 2) - 2 * pi / 3)\n",
        "      if(m == 2):\n",
        "        L_sr[m][n] = Lsr * cos(p * (teta + n * alpha + alpha / 2) + 2 * pi / 3)\n",
        "  return True"
      ]
    },
    {
      "cell_type": "code",
      "execution_count": 7,
      "metadata": {
        "id": "rFIxqob0WIOt"
      },
      "outputs": [],
      "source": [
        "def assemble_dLsr():\n",
        "  alpha = 2 * np.pi / nb\n",
        "  K = -p*Lsr*om\n",
        "\n",
        "  for m in range(3):\n",
        "    for n in range(tam-1):\n",
        "      if(m == 0):\n",
        "        dL_sr[m][n] = K * sin(p * (teta + n * alpha + alpha / 2))\n",
        "      if(m == 1):\n",
        "        dL_sr[m][n] = K * sin(p * (teta + n * alpha + alpha / 2) - 2 * pi / 3)\n",
        "      if(m == 2):\n",
        "        dL_sr[m][n] = K * sin(p * (teta + n * alpha + alpha / 2) + 2 * pi / 3)\n",
        "      "
      ]
    },
    {
      "cell_type": "code",
      "execution_count": 8,
      "metadata": {
        "id": "nG8KHIcIX_0i"
      },
      "outputs": [],
      "source": [
        "def assemble_Lrs():\n",
        "  for m in range(tam):\n",
        "    for n in range(3):\n",
        "      L_rs[m][n] = L_sr[n][m]\n",
        "\n",
        "def assemble_dLrs():\n",
        "  for m in range(tam):\n",
        "    for n in range(3):\n",
        "      dL_rs[m][n] = dL_sr[n][m]\n",
        "    \n",
        "def assemble_R_s():\n",
        "  R_s[0][0] = R_s[1][1] = R_s[2][2] = rs\n",
        "\n",
        "def assemble_L_s():\n",
        "  L_s[0][0] = L_s[1][1] = L_s[2][2] = Ls1 + Lms\n",
        "  L_s[0][1] = L_s[0][2] = L_s[1][2] = L_s[1][0] = L_s[2][0] = L_s[2][1] = -0.5 * Lms\n"
      ]
    },
    {
      "cell_type": "code",
      "execution_count": 9,
      "metadata": {
        "id": "goioNmcDY44h"
      },
      "outputs": [],
      "source": [
        "def assemble_L():\n",
        "  assemble_L_s()\n",
        "  assemble_Lsr()\n",
        "  assemble_Lrs()\n",
        "  assemble_Lr()\n",
        "\n",
        "  for m in range(3):\n",
        "    for n in range(3):\n",
        "      L[m][n] = L_s[m][n]\n",
        "  for m in range(3):\n",
        "    for n in range(3,tam+3):\n",
        "      L[m][n] = L_sr[m][n - 3]\n",
        "  for m in range(3,tam+3):\n",
        "    for n in range(3):\n",
        "      L[m][n] = L_rs[m - 3][n]\n",
        "  for m in range(3,tam+3):\n",
        "    for n in range(3,tam+3):\n",
        "      L[m][n] = L_r[m - 3][n - 3]\n",
        "  L[tam + 3][tam + 3] = Jt\n",
        "  L[tam + 3 + 1][tam + 3 + 1] = 1.0"
      ]
    },
    {
      "cell_type": "code",
      "execution_count": 10,
      "metadata": {
        "id": "JBlnANDif2TT"
      },
      "outputs": [],
      "source": [
        "def assemble_R():\n",
        "  assemble_R_s()\n",
        "  assemble_dLsr()\n",
        "  assemble_dLrs()\n",
        "  assemble_Rr()\n",
        "\n",
        "  alpha = 2 * np.pi/nb\n",
        "\n",
        "  for m in range(3):\n",
        "    for n in range(3):\n",
        "      R[m][n] = R_s[m][n]\n",
        "  for m in range(3):\n",
        "    for n in range(3,tam+3):\n",
        "      R[m][n] = dL_sr[m][n - 3]\n",
        "  for m in range(3,tam+3):\n",
        "    for n in range(3):\n",
        "      R[m][n] = dL_rs[m - 3][n]\n",
        "  for m in range(3,tam+3):\n",
        "    for n in range(3,tam+3):\n",
        "      R[m][n] = R_r[m - 3][n - 3]\n",
        "  for n in range(3,tam+2):\n",
        "    X1 = p * (teta + (n - 3) * alpha + alpha / 2)\n",
        "    X2 = p * (teta + (n - 3) * alpha + alpha / 2) - 2 * pi / 3\n",
        "    X3 = p * (teta + (n - 3) * alpha + alpha / 2) + 2 * pi / 3\n",
        "    R[tam + 3][n] = Lsr * p * (isa1 * sin(X1) + isb1 * sin(X2) + isc1 * sin(X3))\n",
        "  R[tam + 3][tam + 3] = fv\n",
        "  R[tam + 3 + 1][tam + 3] = -1.0\n",
        "  "
      ]
    },
    {
      "cell_type": "code",
      "execution_count": 11,
      "metadata": {
        "id": "Gxrpa4aeYbOB"
      },
      "outputs": [],
      "source": [
        "def calcul_de_U():\n",
        "  # global U, Umax, pi\n",
        "  fs = 50\n",
        "  oms = 2 * pi * fs\n",
        "\n",
        "  va1 = Umax * cos(oms*t)\n",
        "  vb1 = Umax * cos(oms * t -2.0 * pi/3.0)\n",
        "  vc1 = Umax * cos(oms * t + 2.0 * pi/3)\n",
        "\n",
        "  U[0] = va1\n",
        "  U[1] = vb1\n",
        "  U[2] = vc1\n",
        "  U[32] = -Cr\n",
        "  U[32] = 0"
      ]
    },
    {
      "cell_type": "code",
      "execution_count": 12,
      "metadata": {
        "id": "hkJ0sGLDb-lJ"
      },
      "outputs": [],
      "source": [
        "def calcul_vecteur(d):\n",
        "  assemble_L()\n",
        "  assemble_R()\n",
        "  # global R, L, U\n",
        "\n",
        "  inv_L = np.linalg.inv(L)\n",
        "  BU = R.dot(d)\n",
        "  BU = U - BU\n",
        "  c = inv_L.dot(BU)\n",
        "  # print(\"d = \", d)\n",
        "  # print(\"C = \",c)\n",
        "  return c"
      ]
    },
    {
      "cell_type": "code",
      "execution_count": 13,
      "metadata": {
        "colab": {
          "base_uri": "https://localhost:8080/"
        },
        "id": "kI1drYsud9Sk",
        "outputId": "bc35ced1-ee6e-47fb-cf09-c1941b89644b"
      },
      "outputs": [],
      "source": [
        "# calcul_vecteur(z)"
      ]
    },
    {
      "cell_type": "code",
      "execution_count": 14,
      "metadata": {
        "colab": {
          "base_uri": "https://localhost:8080/"
        },
        "id": "auzkLb6QrRFb",
        "outputId": "f7194269-1b7e-4504-db15-4997d79b9544"
      },
      "outputs": [
        {
          "data": {
            "text/plain": [
              "array([0., 0., 0., 0., 0., 0., 0., 0., 0., 0., 0., 0., 0., 0., 0., 0., 0.,\n",
              "       0., 0., 0., 0., 0., 0., 0., 0., 0., 0., 0., 0., 0., 0., 0., 0., 0.])"
            ]
          },
          "execution_count": 14,
          "metadata": {},
          "output_type": "execute_result"
        }
      ],
      "source": [
        "U"
      ]
    },
    {
      "cell_type": "code",
      "execution_count": 15,
      "metadata": {
        "id": "NTXoyhurklTR"
      },
      "outputs": [],
      "source": [
        "def runge_kutta4():\n",
        "  Y0 = 0\n",
        "  Y1 = 0\n",
        "  Y2 = 0\n",
        "  Y3 = 0\n",
        "  dx = 0\n",
        "  temp = 0\n",
        "  global ir1, ir2, ir3, ir4, ir5, ir6, ir7, ir8, ir9, ir10, ir11, ir12, ir13, ir14, ir15, ir16, ir17, ir18, ir19, ir20, ir21, ir22, ir23, ir24, ir25, ir26, ir27, ir28, ire, om, teta, te\n",
        "\n",
        "  calcul_de_U()\n",
        "  # print(\"U = \", U)\n",
        "  # print(\"x1 = \", x)\n",
        "  Y0 = calcul_vecteur(x)\n",
        "  # print(\"Y0 = \", Y0)\n",
        "  dx = Y0*dt/2\n",
        "  Y1 = x+dx\n",
        "\n",
        "  # print(\"x2 = \", x)\n",
        "  # print(\"Y1 = \", Y1)\n",
        "  temp = calcul_vecteur(Y1)\n",
        "  Y1 = temp\n",
        "  dx = Y1*dt/2\n",
        "  Y2 = x+dx\n",
        "  # print(\"dx = \", dx)\n",
        "\n",
        "  # print(\"x3 = \", x)\n",
        "  # print(\"Y2 = \", Y2)\n",
        "  temp = calcul_vecteur(Y2)\n",
        "  Y2 = temp\n",
        "  dx = Y2*dt\n",
        "  Y3 = x+dx\n",
        "\n",
        "  # print(\"temp = \", temp)\n",
        "  # print(\"Y3 = \", Y3)\n",
        "  temp = calcul_vecteur(Y3)\n",
        "  Y3 = temp\n",
        "  \n",
        "  Y1 = Y1*2\n",
        "  Y2 = Y2*2\n",
        "  dx = (Y0 + Y1 + Y2 + Y3) * dt/6\n",
        "  z = x+dx\n",
        "  for i in range(34):\n",
        "    x[i] = x[i]+dx[i]\n",
        "  # print(\"x = \", x)\n",
        "  # print(\"z = \", z)\n",
        "\n",
        "  isa1 = z[0]\n",
        "  isb1 = z[1]\n",
        "  isc1 = z[2]\n",
        "  ir1 = z[3]\n",
        "  ir2 = z[4]\n",
        "  ir3 = z[5]\n",
        "  ir4 = z[6]\n",
        "  ir5 = z[7]\n",
        "  ir6 = z[8]\n",
        "  ir7 = z[9]\n",
        "  ir8 = z[10]\n",
        "  ir9 = z[11]\n",
        "  ir10 = z[12]\n",
        "  ir11 = z[13]\n",
        "  ir12 = z[14]\n",
        "  ir13 = z[15]\n",
        "  ir14 = z[16]\n",
        "  ir15 = z[17]\n",
        "  ir16 = z[18]\n",
        "  ir17 = z[19]\n",
        "  ir18 = z[20]\n",
        "  ir19 = z[21]\n",
        "  ir20 = z[22]\n",
        "  ir21 = z[23]\n",
        "  ir22 = z[24]\n",
        "  ir23 = z[25]\n",
        "  ir24 = z[26]\n",
        "  ir25 = z[27]\n",
        "  ir26 = z[28]\n",
        "  ir27 = z[29]\n",
        "  ir28 = z[30]\n",
        "  ire = z[31]\n",
        "  om = z[32]\n",
        "  teta = z[33]\n",
        "  te = 0\n",
        "  for m in range(nb+1):\n",
        "    te += -(R[tam + 4][4 + m] * x[4 + m])"
      ]
    },
    {
      "cell_type": "code",
      "execution_count": null,
      "metadata": {},
      "outputs": [],
      "source": []
    },
    {
      "cell_type": "code",
      "execution_count": 16,
      "metadata": {
        "id": "YPbSiJiKfC7p"
      },
      "outputs": [],
      "source": [
        "# for i in range(NiterG):\n",
        "#   for j in range(Niter+1):\n",
        "#     runge_kutta4()\n",
        "#     t = t + dt\n",
        "\n",
        "i = 0\n",
        "j = 0\n",
        "while(i<NiterG):\n",
        "  while(j<Niter):\n",
        "    runge_kutta4()\n",
        "    t = t + dt\n",
        "    j = j+1\n",
        "  results[i][0] = t\n",
        "  results[i][1] = ir1\n",
        "  results[i][2] = ir2\n",
        "  results[i][3] = ir3\n",
        "  results[i][4] = ir4\n",
        "  results[i][5] = ir5\n",
        "  results[i][6] = ir6\n",
        "  results[i][7] = ir7\n",
        "  results[i][8] = ir8\n",
        "  results[i][9] = ir9\n",
        "  results[i][10] = ir10\n",
        "  results[i][11] = ir11\n",
        "  results[i][12] = ir12\n",
        "  results[i][13] = ir13\n",
        "  results[i][14] = ir14\n",
        "  results[i][15] = ir15\n",
        "  results[i][16] = ir16\n",
        "  results[i][17] = ir17\n",
        "  results[i][18] = ir18\n",
        "  results[i][19] = ir19\n",
        "  results[i][20] = ir20\n",
        "  results[i][21] = ir21\n",
        "  results[i][22] = ir22\n",
        "  results[i][23] = ir23\n",
        "  results[i][24] = ir24\n",
        "  results[i][25] = ir25\n",
        "  results[i][26] = ir26\n",
        "  results[i][27] = isa1\n",
        "  results[i][28] = te\n",
        "  i = i+1\n",
        "  j = 0"
      ]
    },
    {
      "cell_type": "code",
      "execution_count": 17,
      "metadata": {
        "colab": {
          "base_uri": "https://localhost:8080/"
        },
        "id": "xjqFqRJ3YtLg",
        "outputId": "e93fe4cd-a128-409a-f1a8-404179000787"
      },
      "outputs": [
        {
          "data": {
            "text/plain": [
              "array([  39.34093897,   78.92404023,  118.71125121,  158.66432161,\n",
              "        198.74484111,  238.91427733,  279.13401387,  319.3653884 ,\n",
              "        359.56973087,  399.70840167,  439.74282975,  479.63455075,\n",
              "        519.34524492,  558.836775  ,  598.07122382,  637.0109318 ,\n",
              "        675.61853405,  713.85699732,  751.68965654,  789.08025102,\n",
              "        825.99296023,  862.39243921,  898.24385341,  933.51291314,\n",
              "        968.16590736, 1002.16973702, 1035.49194772, 1068.10076172,\n",
              "       1099.96510938, 1131.05465979, 1161.33985071, 1190.7919178 ,\n",
              "       1219.382923  , 1247.0857821 , 1273.87429152, 1299.72315415,\n",
              "       1324.60800435, 1348.505432  , 1371.39300565, 1393.2492946 ,\n",
              "       1414.05389016, 1433.78742573, 1452.43159596, 1469.96917482,\n",
              "       1486.38403264, 1501.66115201, 1515.78664263, 1528.74775504,\n",
              "       1540.53289323, 1551.13162604, 1560.53469754, 1568.73403616,\n",
              "       1575.72276265, 1581.4951969 , 1586.04686357, 1589.3744965 ,\n",
              "       1591.47604196, 1592.35066073, 1591.99872887, 1590.42183742,\n",
              "       1587.62279085, 1583.60560426, 1578.37549948, 1571.93889993,\n",
              "       1564.30342426, 1555.4778789 , 1545.47224934, 1534.29769032,\n",
              "       1521.96651483, 1508.49218197, 1493.88928369, 1478.17353043,\n",
              "       1461.36173558, 1443.47179895, 1424.5226891 , 1404.53442464,\n",
              "       1383.52805452, 1361.52563721, 1338.55021903, 1314.62581135,\n",
              "       1289.77736697, 1264.03075546, 1237.41273769, 1209.95093942,\n",
              "       1181.67382406, 1152.61066457, 1122.79151465, 1092.24717903,\n",
              "       1061.00918315, 1029.109742  ,  996.58172841,  963.4586406 ,\n",
              "        929.77456911,  895.56416324,  860.86259681,  825.70553351,\n",
              "        790.1290917 ,  754.16980879,  717.86460521,  681.25074797])"
            ]
          },
          "execution_count": 17,
          "metadata": {},
          "output_type": "execute_result"
        }
      ],
      "source": [
        "results[0:100,1]"
      ]
    },
    {
      "cell_type": "code",
      "execution_count": 28,
      "metadata": {
        "colab": {
          "base_uri": "https://localhost:8080/",
          "height": 293
        },
        "id": "BnMZPLooX5Rq",
        "outputId": "f6c320f7-f957-429b-b158-fb9f5b373310"
      },
      "outputs": [
        {
          "data": {
            "text/plain": [
              "[<matplotlib.lines.Line2D at 0x25d15ae1de0>]"
            ]
          },
          "execution_count": 28,
          "metadata": {},
          "output_type": "execute_result"
        },
        {
          "data": {
            "image/png": "[encoded data removed]",
            "text/plain": [
              "<Figure size 640x480 with 1 Axes>"
            ]
          },
          "metadata": {},
          "output_type": "display_data"
        }
      ],
      "source": [
        "plt.plot(results[0:10000,1])"
      ]
    },
    {
      "cell_type": "code",
      "execution_count": 19,
      "metadata": {
        "colab": {
          "base_uri": "https://localhost:8080/"
        },
        "id": "_EdmMZgILpUP",
        "outputId": "05d5094f-88d0-4e1f-b325-a295cf4e1f8d"
      },
      "outputs": [
        {
          "name": "stdout",
          "output_type": "stream",
          "text": [
            "[[0. 0. 0.]\n",
            " [0. 0. 0.]]\n",
            "[1 2 3]\n",
            "[0. 0.]\n"
          ]
        }
      ],
      "source": [
        "a = np.zeros((2,3))\n",
        "b = np.array([1, 2, 3])\n",
        "print(a)\n",
        "print(b)\n",
        "c = a.dot(b)\n",
        "print(c)"
      ]
    },
    {
      "cell_type": "code",
      "execution_count": 20,
      "metadata": {
        "colab": {
          "base_uri": "https://localhost:8080/"
        },
        "id": "eHqagfx1Ql51",
        "outputId": "38635a9f-5c9b-4995-9874-a1d8c9cdf51c"
      },
      "outputs": [
        {
          "data": {
            "text/plain": [
              "2"
            ]
          },
          "execution_count": 20,
          "metadata": {},
          "output_type": "execute_result"
        }
      ],
      "source": [
        "a = 1\n",
        "b = 2\n",
        "a=b\n",
        "c = 3\n",
        "b = c\n",
        "a"
      ]
    }
  ],
  "metadata": {
    "accelerator": "GPU",
    "colab": {
      "collapsed_sections": [],
      "provenance": []
    },
    "kernelspec": {
      "display_name": "Python 3.10.7 64-bit",
      "language": "python",
      "name": "python3"
    },
    "language_info": {
      "codemirror_mode": {
        "name": "ipython",
        "version": 3
      },
      "file_extension": ".py",
      "mimetype": "text/x-python",
      "name": "python",
      "nbconvert_exporter": "python",
      "pygments_lexer": "ipython3",
      "version": "3.10.7"
    },
    "vscode": {
      "interpreter": {
        "hash": "c05ddf9f63c4e2c37a87c975af28dfb62a1e4b261fae23f9d0a64ded7c623117"
      }
    }
  },
  "nbformat": 4,
  "nbformat_minor": 0
}
